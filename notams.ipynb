{
 "cells": [
  {
   "cell_type": "code",
   "execution_count": 1,
   "id": "02499863-cbc8-4de1-bfd8-0ce9f5a91755",
   "metadata": {},
   "outputs": [],
   "source": [
    "from datetime import datetime, timedelta\n",
    "import requests\n",
    "import re\n",
    "from io import BytesIO\n",
    "import pdfplumber\n",
    "#import wget\n",
    "import pandas as pd"
   ]
  },
  {
   "cell_type": "code",
   "execution_count": 2,
   "id": "508d667f-cb70-47ee-ae97-91b66daaaf08",
   "metadata": {},
   "outputs": [],
   "source": [
    "URL = 'https://www.aerocivil.gov.co/servicios-a-la-navegacion/servicio-de-informacion-aeronautica-ais/Documents/Charlie1.pdf'\n",
    "raw = requests.get(URL).content\n",
    "pdf = pdfplumber.open(BytesIO(raw))\n"
   ]
  },
  {
   "cell_type": "code",
   "execution_count": 3,
   "id": "331994e5-755f-4bdd-a5e0-2d02355f2a42",
   "metadata": {},
   "outputs": [],
   "source": [
    "#pdf=pdfplumber.open(\"Charlie1.pdf\")"
   ]
  },
  {
   "cell_type": "code",
   "execution_count": 4,
   "id": "8b840a17-d1be-4891-ad4b-234c1eb76913",
   "metadata": {},
   "outputs": [],
   "source": [
    "texto=[]\n",
    "for paginas in pdf.pages:\n",
    "    texto.extend(paginas.extract_text().splitlines()[:-1])\n",
    "    "
   ]
  },
  {
   "cell_type": "code",
   "execution_count": 5,
   "id": "5eecea6a-0923-4d93-97a0-e314fe073bdc",
   "metadata": {},
   "outputs": [],
   "source": [
    "busqueda='NR TEXTO' "
   ]
  },
  {
   "cell_type": "code",
   "execution_count": 6,
   "id": "457a6518-315d-4c7c-8217-3c5a983ed89a",
   "metadata": {},
   "outputs": [],
   "source": [
    "def substringindex(l, s):\n",
    "    for i in range(len(l)):\n",
    "        if l[i].find(s)!=-1:\n",
    "            return i\n",
    "    return None # Or -1"
   ]
  },
  {
   "cell_type": "code",
   "execution_count": 7,
   "id": "cf3347b4-a720-4474-a4a8-4ba159601f82",
   "metadata": {},
   "outputs": [],
   "source": [
    "index=substringindex(texto,busqueda)"
   ]
  },
  {
   "cell_type": "code",
   "execution_count": 8,
   "id": "612d8b80-5337-4c8f-8df3-1756cb0b2948",
   "metadata": {},
   "outputs": [],
   "source": [
    "texto1=texto[index+1:]\n",
    "    "
   ]
  },
  {
   "cell_type": "code",
   "execution_count": 11,
   "id": "72ac9b3c-9b65-4b8b-a277-1e292e186b43",
   "metadata": {},
   "outputs": [],
   "source": [
    "notamlist=[]\n",
    "x=[]\n",
    "for i in texto1:\n",
    "    \n",
    "    if (i[0]=='C' or i[0]=='D') and i[1]==' ':\n",
    "        notamlist.append(x)\n",
    "        x=[]\n",
    "        x.append(i)\n",
    "    else:\n",
    "        x.append(i)\n",
    "notamlist.append(x)"
   ]
  },
  {
   "cell_type": "code",
   "execution_count": 12,
   "id": "c4cdc001-d59a-4431-8a93-c776c9a2b875",
   "metadata": {},
   "outputs": [
    {
     "data": {
      "text/plain": [
       "[]"
      ]
     },
     "execution_count": 12,
     "metadata": {},
     "output_type": "execute_result"
    }
   ],
   "source": [
    "notamlist.pop(0)\n",
    "#notamlist"
   ]
  },
  {
   "cell_type": "code",
   "execution_count": 13,
   "id": "6b65fd84-d1c8-4f9a-9535-bed7909eedea",
   "metadata": {},
   "outputs": [
    {
     "data": {
      "text/plain": [
       "312"
      ]
     },
     "execution_count": 13,
     "metadata": {},
     "output_type": "execute_result"
    }
   ],
   "source": [
    "len(notamlist)\n",
    "    "
   ]
  },
  {
   "cell_type": "code",
   "execution_count": 14,
   "id": "3cec95eb-3ef6-4241-baea-0fbd2c5d0c6b",
   "metadata": {},
   "outputs": [],
   "source": [
    "a=[]\n",
    "\n",
    "for j in notamlist:\n",
    "    b=[]\n",
    "    for i in j:\n",
    "        b.append(i.replace('(cid:13)',''))\n",
    "    a.append(b)\n",
    "    "
   ]
  },
  {
   "cell_type": "code",
   "execution_count": 15,
   "id": "8292d407-14c8-4c00-bb45-115a0a8fc376",
   "metadata": {},
   "outputs": [],
   "source": [
    "#for i in a:\n",
    "#    for j in range(len(i)):\n",
    "#       print(i[j])\n",
    "#    print('---------')\n",
    "    "
   ]
  },
  {
   "cell_type": "code",
   "execution_count": 16,
   "id": "98fc4e9e-cc0a-466d-9429-741cfef9f44b",
   "metadata": {},
   "outputs": [],
   "source": [
    "notamslist =[]\n",
    "for i in a:\n",
    "    sigla=i[0].find('(S')\n",
    "    if sigla!=-1:\n",
    "        linea1=i[0].split()\n",
    "        linea2=i[1].split()\n",
    "        serie=linea1.pop(0)\n",
    "        numero=linea1.pop(0)\n",
    "        ano=linea1.pop(1)\n",
    "        tipo='AERODROMO'\n",
    "        lugar=(i[0][sigla:]).strip(\"()\")\n",
    "        inicio=datetime.strptime(linea2.pop(0),'%y%m%d%H%M')\n",
    "        fin=linea2.pop(1)\n",
    "        if len(fin) == 10:\n",
    "            fin=datetime.strptime(fin,'%y%m%d%H%M')\n",
    "        elif fin == 'PERM':\n",
    "            fin=datetime.now() + timedelta(days=365)\n",
    "        lentexto=len(i)\n",
    "        texto=''\n",
    "        for j in range(1,lentexto):\n",
    "            texto=texto+i[j]+' '\n",
    "        fila={'serie': serie,'numero':numero,'ano':ano,'tipo':tipo,'lugar':lugar,'inicio':inicio,'fin':fin,'texto':texto}\n",
    "        \n",
    "    else:\n",
    "        linea1=i[0].split()\n",
    "        linea2=i[1].split()\n",
    "        serie=linea1.pop(0)\n",
    "        numero=linea1.pop(0)\n",
    "        ano=linea1.pop(1)\n",
    "        tipo='FIR/UIR'\n",
    "        lugar=linea1.pop()\n",
    "        inicio=datetime.strptime(linea2.pop(0),'%y%m%d%H%M')\n",
    "        fin=linea2.pop(1)\n",
    "        if len(fin) == 10:\n",
    "            fin=datetime.strptime(fin,'%y%m%d%H%M')\n",
    "        elif fin == 'PERM':\n",
    "            fin=datetime.now() + timedelta(days=365)\n",
    "        lentexto=len(i)\n",
    "        texto=''\n",
    "        for j in range(2,lentexto):\n",
    "            texto=texto+i[j]+' '\n",
    "        fila={'serie': serie,'numero':numero,'ano':ano,'tipo':tipo,'lugar':lugar,'inicio':inicio,'fin':fin,'texto':texto}\n",
    "        \n",
    "    notamslist.append(fila)        \n",
    "    \n",
    "    #print(i[0])\n",
    "    #print(i[0].split())\n",
    " "
   ]
  },
  {
   "cell_type": "code",
   "execution_count": 17,
   "id": "aac6952a-ecb0-4ec9-86d1-d444a4fd60c9",
   "metadata": {},
   "outputs": [],
   "source": [
    "df = pd.DataFrame(notamslist)"
   ]
  },
  {
   "cell_type": "code",
   "execution_count": 18,
   "id": "350e48be-c24c-43e1-ad46-5c4a08cf97df",
   "metadata": {},
   "outputs": [
    {
     "data": {
      "text/html": [
       "<div>\n",
       "<style scoped>\n",
       "    .dataframe tbody tr th:only-of-type {\n",
       "        vertical-align: middle;\n",
       "    }\n",
       "\n",
       "    .dataframe tbody tr th {\n",
       "        vertical-align: top;\n",
       "    }\n",
       "\n",
       "    .dataframe thead th {\n",
       "        text-align: right;\n",
       "    }\n",
       "</style>\n",
       "<table border=\"1\" class=\"dataframe\">\n",
       "  <thead>\n",
       "    <tr style=\"text-align: right;\">\n",
       "      <th></th>\n",
       "      <th>serie</th>\n",
       "      <th>numero</th>\n",
       "      <th>ano</th>\n",
       "      <th>tipo</th>\n",
       "      <th>lugar</th>\n",
       "      <th>inicio</th>\n",
       "      <th>fin</th>\n",
       "      <th>texto</th>\n",
       "    </tr>\n",
       "  </thead>\n",
       "  <tbody>\n",
       "    <tr>\n",
       "      <th>0</th>\n",
       "      <td>C</td>\n",
       "      <td>3305</td>\n",
       "      <td>20</td>\n",
       "      <td>AERODROMO</td>\n",
       "      <td>SKBS</td>\n",
       "      <td>2020-10-12 04:53:00</td>\n",
       "      <td>2023-08-01 18:45:31.704483</td>\n",
       "      <td>2010120453 /  PERM  , RWY 18/36 CAMBIA WID A 1...</td>\n",
       "    </tr>\n",
       "    <tr>\n",
       "      <th>1</th>\n",
       "      <td>C</td>\n",
       "      <td>3306</td>\n",
       "      <td>20</td>\n",
       "      <td>AERODROMO</td>\n",
       "      <td>SKBS</td>\n",
       "      <td>2020-10-12 04:57:00</td>\n",
       "      <td>2023-08-01 18:45:31.704533</td>\n",
       "      <td>2010120457 /  PERM  , FRANJA RWY 18/36 CAMBIA ...</td>\n",
       "    </tr>\n",
       "    <tr>\n",
       "      <th>2</th>\n",
       "      <td>C</td>\n",
       "      <td>4065</td>\n",
       "      <td>20</td>\n",
       "      <td>AERODROMO</td>\n",
       "      <td>SKVV</td>\n",
       "      <td>2020-11-29 14:22:00</td>\n",
       "      <td>2023-08-01 18:45:31.704551</td>\n",
       "      <td>2011291422 /  PERM  , LGT BORDE APN DE VIRAJE ...</td>\n",
       "    </tr>\n",
       "    <tr>\n",
       "      <th>3</th>\n",
       "      <td>C</td>\n",
       "      <td>4066</td>\n",
       "      <td>20</td>\n",
       "      <td>FIR/UIR</td>\n",
       "      <td>BOGOTA</td>\n",
       "      <td>2020-11-29 15:22:00</td>\n",
       "      <td>2023-08-01 18:45:31.704564</td>\n",
       "      <td>BANCO DATOS OPMET U/S RPLC NOTAM C1861 /17</td>\n",
       "    </tr>\n",
       "    <tr>\n",
       "      <th>4</th>\n",
       "      <td>C</td>\n",
       "      <td>4076</td>\n",
       "      <td>20</td>\n",
       "      <td>AERODROMO</td>\n",
       "      <td>SKPS</td>\n",
       "      <td>2020-11-29 16:45:00</td>\n",
       "      <td>2023-08-01 18:45:31.704576</td>\n",
       "      <td>2011291645 /  PERM  , RWY 02/20 CHG PCN A 48/F...</td>\n",
       "    </tr>\n",
       "    <tr>\n",
       "      <th>...</th>\n",
       "      <td>...</td>\n",
       "      <td>...</td>\n",
       "      <td>...</td>\n",
       "      <td>...</td>\n",
       "      <td>...</td>\n",
       "      <td>...</td>\n",
       "      <td>...</td>\n",
       "      <td>...</td>\n",
       "    </tr>\n",
       "    <tr>\n",
       "      <th>307</th>\n",
       "      <td>C</td>\n",
       "      <td>2515</td>\n",
       "      <td>22</td>\n",
       "      <td>FIR/UIR</td>\n",
       "      <td>BOGOTA</td>\n",
       "      <td>2022-08-01 01:12:00</td>\n",
       "      <td>2022-08-31 23:59:00.000000</td>\n",
       "      <td>CHECKLIST NOTAM SERIE C VIGENTES A LAS 0112Z D...</td>\n",
       "    </tr>\n",
       "    <tr>\n",
       "      <th>308</th>\n",
       "      <td>C</td>\n",
       "      <td>2516</td>\n",
       "      <td>22</td>\n",
       "      <td>FIR/UIR</td>\n",
       "      <td>BOGOTA</td>\n",
       "      <td>2022-08-01 11:35:00</td>\n",
       "      <td>2022-11-01 23:59:00.000000</td>\n",
       "      <td>SSR CAR U/S RPLC NOTAM C2434 /22</td>\n",
       "    </tr>\n",
       "    <tr>\n",
       "      <th>309</th>\n",
       "      <td>C</td>\n",
       "      <td>2518</td>\n",
       "      <td>22</td>\n",
       "      <td>AERODROMO</td>\n",
       "      <td>SKBG</td>\n",
       "      <td>2022-08-01 18:37:00</td>\n",
       "      <td>2022-11-02 23:59:00.000000</td>\n",
       "      <td>2208011837 /  2211022359  , AD, SE ESTA CORTAN...</td>\n",
       "    </tr>\n",
       "    <tr>\n",
       "      <th>310</th>\n",
       "      <td>C</td>\n",
       "      <td>2519</td>\n",
       "      <td>22</td>\n",
       "      <td>AERODROMO</td>\n",
       "      <td>SKTL</td>\n",
       "      <td>2022-08-04 13:00:00</td>\n",
       "      <td>2022-09-04 21:00:00.000000</td>\n",
       "      <td>2208041300 /  2209042100  DLY BTN 1300-2100, Z...</td>\n",
       "    </tr>\n",
       "    <tr>\n",
       "      <th>311</th>\n",
       "      <td>C</td>\n",
       "      <td>2520</td>\n",
       "      <td>22</td>\n",
       "      <td>AERODROMO</td>\n",
       "      <td>SKEJ</td>\n",
       "      <td>2022-08-01 18:50:00</td>\n",
       "      <td>2023-08-01 18:45:31.710571</td>\n",
       "      <td>2208011850 /  PERM  , APN LTD PARA AVIACION NO...</td>\n",
       "    </tr>\n",
       "  </tbody>\n",
       "</table>\n",
       "<p>312 rows × 8 columns</p>\n",
       "</div>"
      ],
      "text/plain": [
       "    serie numero ano       tipo   lugar              inicio  \\\n",
       "0       C   3305  20  AERODROMO    SKBS 2020-10-12 04:53:00   \n",
       "1       C   3306  20  AERODROMO    SKBS 2020-10-12 04:57:00   \n",
       "2       C   4065  20  AERODROMO    SKVV 2020-11-29 14:22:00   \n",
       "3       C   4066  20    FIR/UIR  BOGOTA 2020-11-29 15:22:00   \n",
       "4       C   4076  20  AERODROMO    SKPS 2020-11-29 16:45:00   \n",
       "..    ...    ...  ..        ...     ...                 ...   \n",
       "307     C   2515  22    FIR/UIR  BOGOTA 2022-08-01 01:12:00   \n",
       "308     C   2516  22    FIR/UIR  BOGOTA 2022-08-01 11:35:00   \n",
       "309     C   2518  22  AERODROMO    SKBG 2022-08-01 18:37:00   \n",
       "310     C   2519  22  AERODROMO    SKTL 2022-08-04 13:00:00   \n",
       "311     C   2520  22  AERODROMO    SKEJ 2022-08-01 18:50:00   \n",
       "\n",
       "                           fin  \\\n",
       "0   2023-08-01 18:45:31.704483   \n",
       "1   2023-08-01 18:45:31.704533   \n",
       "2   2023-08-01 18:45:31.704551   \n",
       "3   2023-08-01 18:45:31.704564   \n",
       "4   2023-08-01 18:45:31.704576   \n",
       "..                         ...   \n",
       "307 2022-08-31 23:59:00.000000   \n",
       "308 2022-11-01 23:59:00.000000   \n",
       "309 2022-11-02 23:59:00.000000   \n",
       "310 2022-09-04 21:00:00.000000   \n",
       "311 2023-08-01 18:45:31.710571   \n",
       "\n",
       "                                                 texto  \n",
       "0    2010120453 /  PERM  , RWY 18/36 CAMBIA WID A 1...  \n",
       "1    2010120457 /  PERM  , FRANJA RWY 18/36 CAMBIA ...  \n",
       "2    2011291422 /  PERM  , LGT BORDE APN DE VIRAJE ...  \n",
       "3          BANCO DATOS OPMET U/S RPLC NOTAM C1861 /17   \n",
       "4    2011291645 /  PERM  , RWY 02/20 CHG PCN A 48/F...  \n",
       "..                                                 ...  \n",
       "307  CHECKLIST NOTAM SERIE C VIGENTES A LAS 0112Z D...  \n",
       "308                  SSR CAR U/S RPLC NOTAM C2434 /22   \n",
       "309  2208011837 /  2211022359  , AD, SE ESTA CORTAN...  \n",
       "310  2208041300 /  2209042100  DLY BTN 1300-2100, Z...  \n",
       "311  2208011850 /  PERM  , APN LTD PARA AVIACION NO...  \n",
       "\n",
       "[312 rows x 8 columns]"
      ]
     },
     "execution_count": 18,
     "metadata": {},
     "output_type": "execute_result"
    }
   ],
   "source": [
    "df"
   ]
  },
  {
   "cell_type": "code",
   "execution_count": 21,
   "id": "c82bce05-ccfe-4253-acca-32798c62fef0",
   "metadata": {},
   "outputs": [],
   "source": [
    "#html = df.to_html()\n",
    "html=df1.to_html()\n",
    "text_file = open(\"index.html\", \"w\")\n",
    "text_file.write(html)\n",
    "text_file.close()"
   ]
  },
  {
   "cell_type": "code",
   "execution_count": 44,
   "id": "a5ee1a85-e93c-451f-a3ea-bcefa0144e29",
   "metadata": {},
   "outputs": [],
   "source": [
    "df1=df.groupby(\"lugar\").count()"
   ]
  },
  {
   "cell_type": "code",
   "execution_count": 48,
   "id": "fbdc0311-2ec3-4a08-b3f3-68a201c63b8a",
   "metadata": {},
   "outputs": [],
   "source": [
    "df1=df.groupby('lugar').size().reset_index(name = 'obs').sort_values(['obs'],ascending=True )"
   ]
  },
  {
   "cell_type": "code",
   "execution_count": 50,
   "id": "b636ddd0-394a-4001-a4df-9f70e86c9c2a",
   "metadata": {},
   "outputs": [],
   "source": [
    "df1=df.sort_values(['lugar'])"
   ]
  },
  {
   "cell_type": "code",
   "execution_count": 20,
   "id": "ff77396d-1d10-4a84-8fb0-39fb8501c09e",
   "metadata": {},
   "outputs": [],
   "source": [
    "aerodromos=['SKBO','SKRG','SKCL','SKPE','SKAR','SKMR','SKCG','SKBQ','SKSM','SKSP']\n",
    "df1=df[df['lugar'].isin(aerodromos)]\n",
    "df1=df1.sort_values(['lugar','inicio'],ascending=[True,False])"
   ]
  },
  {
   "cell_type": "code",
   "execution_count": null,
   "id": "fc0d99ad-afea-4228-8c56-b5848618cba7",
   "metadata": {},
   "outputs": [],
   "source": []
  }
 ],
 "metadata": {
  "kernelspec": {
   "display_name": "Python 3 (ipykernel)",
   "language": "python",
   "name": "python3"
  },
  "language_info": {
   "codemirror_mode": {
    "name": "ipython",
    "version": 3
   },
   "file_extension": ".py",
   "mimetype": "text/x-python",
   "name": "python",
   "nbconvert_exporter": "python",
   "pygments_lexer": "ipython3",
   "version": "3.8.10"
  }
 },
 "nbformat": 4,
 "nbformat_minor": 5
}
